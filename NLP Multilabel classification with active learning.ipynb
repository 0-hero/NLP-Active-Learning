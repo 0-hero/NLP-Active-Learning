{
  "nbformat": 4,
  "nbformat_minor": 0,
  "metadata": {
    "colab": {
      "name": "HW_Submission_Headstrt___Ram.ipynb",
      "provenance": [],
      "collapsed_sections": []
    },
    "kernelspec": {
      "name": "python3",
      "display_name": "Python 3"
    }
  },
  "cells": [
    {
      "cell_type": "markdown",
      "metadata": {
        "id": "nTBfICykto9T",
        "colab_type": "text"
      },
      "source": [
        "# Problem Statement\n",
        "Imagine building a NLP engine that can help predict if a document contains abuse, malignant, defamatory, hateful, racist, fake text or nothing? So this will be a multi-class classification problem which can be converted into n-1 responses (where n = Number of classes), because each document can contain 1 or more classes. Bonus points if you can think of a solution for multiple languages. \n",
        "\n",
        "How would you go about mining data for this kind of problem on the web. Site the sources where we can download/scrap or buy data. How would you turn this Active ML problem into a supervised ML Problem? \n",
        "\n",
        "\n"
      ]
    },
    {
      "cell_type": "markdown",
      "metadata": {
        "id": "tlCdLuDJpHgh",
        "colab_type": "text"
      },
      "source": [
        "**Dataset Used** : https://www.kaggle.com/c/jigsaw-toxic-comment-classification-challenge/\n",
        "\n",
        "**Dataset Explained: <br>**\n",
        "*Attributes:* \"toxic\", \"severe_toxic\", \"obscene\", \"threat\", \"insult\", \"identity_hate\"\n"
      ]
    },
    {
      "cell_type": "code",
      "metadata": {
        "id": "eVoAO9iGn3v_",
        "colab_type": "code",
        "outputId": "c5fab5ce-5b72-40fb-cd35-63a52ff32806",
        "colab": {
          "base_uri": "https://localhost:8080/",
          "height": 34
        }
      },
      "source": [
        "!pwd"
      ],
      "execution_count": 0,
      "outputs": [
        {
          "output_type": "stream",
          "text": [
            "/content/drive/My Drive/Datasets\n"
          ],
          "name": "stdout"
        }
      ]
    },
    {
      "cell_type": "markdown",
      "metadata": {
        "id": "i9qbVCV_ofRC",
        "colab_type": "text"
      },
      "source": [
        "Change working directory to Dataset folder"
      ]
    },
    {
      "cell_type": "code",
      "metadata": {
        "id": "XltLva276VLB",
        "colab_type": "code",
        "outputId": "b9cadf70-239f-43d9-b08d-ba414dc4a55b",
        "colab": {
          "base_uri": "https://localhost:8080/",
          "height": 34
        }
      },
      "source": [
        "from google.colab import drive\n",
        "drive.mount('/content/drive')"
      ],
      "execution_count": 0,
      "outputs": [
        {
          "output_type": "stream",
          "text": [
            "Drive already mounted at /content/drive; to attempt to forcibly remount, call drive.mount(\"/content/drive\", force_remount=True).\n"
          ],
          "name": "stdout"
        }
      ]
    },
    {
      "cell_type": "code",
      "metadata": {
        "id": "A3DcTIlNn5CS",
        "colab_type": "code",
        "colab": {}
      },
      "source": [
        "import os\n",
        "if os.getcwd() == '/content/drive/My Drive/Datasets':\n",
        "  pass\n",
        "else:\n",
        "  os.chdir('drive/My Drive/Datasets')"
      ],
      "execution_count": 0,
      "outputs": []
    },
    {
      "cell_type": "markdown",
      "metadata": {
        "id": "lRJJyHyboz65",
        "colab_type": "text"
      },
      "source": [
        "***Import Required Libraries***"
      ]
    },
    {
      "cell_type": "code",
      "metadata": {
        "id": "4UoyBjQN3bBV",
        "colab_type": "code",
        "outputId": "09ba0ec8-002b-456c-f449-c6f04f65589a",
        "colab": {
          "base_uri": "https://localhost:8080/",
          "height": 85
        }
      },
      "source": [
        "pip install modAL"
      ],
      "execution_count": 0,
      "outputs": [
        {
          "output_type": "stream",
          "text": [
            "Requirement already satisfied: modAL in /usr/local/lib/python3.6/dist-packages (0.3.1)\n",
            "Requirement already satisfied: scikit-learn>=0.18 in /usr/local/lib/python3.6/dist-packages (from modAL) (0.20.0)\n",
            "Requirement already satisfied: scipy>=0.18 in /usr/local/lib/python3.6/dist-packages (from modAL) (1.1.0)\n",
            "Requirement already satisfied: numpy>=1.13 in /usr/local/lib/python3.6/dist-packages (from modAL) (1.15.2)\n"
          ],
          "name": "stdout"
        }
      ]
    },
    {
      "cell_type": "code",
      "metadata": {
        "id": "k93j_H1hmDxX",
        "colab_type": "code",
        "outputId": "6411b9aa-1bb4-4418-8b3b-2f56caa5f22e",
        "colab": {
          "base_uri": "https://localhost:8080/",
          "height": 1000
        }
      },
      "source": [
        "pip install -r requirements.txt"
      ],
      "execution_count": 0,
      "outputs": [
        {
          "output_type": "stream",
          "text": [
            "Requirement already satisfied: jupyter==1.0.0 in /usr/local/lib/python3.6/dist-packages (from -r requirements.txt (line 1)) (1.0.0)\n",
            "Requirement already satisfied: lime==0.1.1.32 in /usr/local/lib/python3.6/dist-packages (from -r requirements.txt (line 2)) (0.1.1.32)\n",
            "Requirement already satisfied: matplotlib==3.0.0 in /usr/local/lib/python3.6/dist-packages (from -r requirements.txt (line 3)) (3.0.0)\n",
            "Requirement already satisfied: modAL==0.3.1 in /usr/local/lib/python3.6/dist-packages (from -r requirements.txt (line 4)) (0.3.1)\n",
            "Requirement already satisfied: notebook==5.7.0 in /usr/local/lib/python3.6/dist-packages (from -r requirements.txt (line 5)) (5.7.0)\n",
            "Requirement already satisfied: numpy==1.15.2 in /usr/local/lib/python3.6/dist-packages (from -r requirements.txt (line 6)) (1.15.2)\n",
            "Requirement already satisfied: scikit-learn==0.20.0 in /usr/local/lib/python3.6/dist-packages (from -r requirements.txt (line 7)) (0.20.0)\n",
            "Requirement already satisfied: scipy==1.1.0 in /usr/local/lib/python3.6/dist-packages (from -r requirements.txt (line 8)) (1.1.0)\n",
            "Requirement already satisfied: tqdm==4.26.0 in /usr/local/lib/python3.6/dist-packages (from -r requirements.txt (line 9)) (4.26.0)\n",
            "Requirement already satisfied: nbconvert in /usr/local/lib/python3.6/dist-packages (from jupyter==1.0.0->-r requirements.txt (line 1)) (5.6.1)\n",
            "Requirement already satisfied: jupyter-console in /usr/local/lib/python3.6/dist-packages (from jupyter==1.0.0->-r requirements.txt (line 1)) (5.2.0)\n",
            "Requirement already satisfied: ipywidgets in /usr/local/lib/python3.6/dist-packages (from jupyter==1.0.0->-r requirements.txt (line 1)) (7.5.1)\n",
            "Requirement already satisfied: ipykernel in /usr/local/lib/python3.6/dist-packages (from jupyter==1.0.0->-r requirements.txt (line 1)) (4.10.1)\n",
            "Requirement already satisfied: qtconsole in /usr/local/lib/python3.6/dist-packages (from jupyter==1.0.0->-r requirements.txt (line 1)) (4.7.4)\n",
            "Requirement already satisfied: scikit-image>=0.12 in /usr/local/lib/python3.6/dist-packages (from lime==0.1.1.32->-r requirements.txt (line 2)) (0.16.2)\n",
            "Requirement already satisfied: cycler>=0.10 in /usr/local/lib/python3.6/dist-packages (from matplotlib==3.0.0->-r requirements.txt (line 3)) (0.10.0)\n",
            "Requirement already satisfied: python-dateutil>=2.1 in /usr/local/lib/python3.6/dist-packages (from matplotlib==3.0.0->-r requirements.txt (line 3)) (2.8.1)\n",
            "Requirement already satisfied: kiwisolver>=1.0.1 in /usr/local/lib/python3.6/dist-packages (from matplotlib==3.0.0->-r requirements.txt (line 3)) (1.2.0)\n",
            "Requirement already satisfied: pyparsing!=2.0.4,!=2.1.2,!=2.1.6,>=2.0.1 in /usr/local/lib/python3.6/dist-packages (from matplotlib==3.0.0->-r requirements.txt (line 3)) (2.4.7)\n",
            "Requirement already satisfied: jinja2 in /usr/local/lib/python3.6/dist-packages (from notebook==5.7.0->-r requirements.txt (line 5)) (2.11.2)\n",
            "Requirement already satisfied: traitlets>=4.2.1 in /usr/local/lib/python3.6/dist-packages (from notebook==5.7.0->-r requirements.txt (line 5)) (4.3.3)\n",
            "Requirement already satisfied: prometheus-client in /usr/local/lib/python3.6/dist-packages (from notebook==5.7.0->-r requirements.txt (line 5)) (0.7.1)\n",
            "Requirement already satisfied: tornado>=4 in /usr/local/lib/python3.6/dist-packages (from notebook==5.7.0->-r requirements.txt (line 5)) (4.5.3)\n",
            "Requirement already satisfied: pyzmq>=17 in /usr/local/lib/python3.6/dist-packages (from notebook==5.7.0->-r requirements.txt (line 5)) (19.0.1)\n",
            "Requirement already satisfied: terminado>=0.8.1 in /usr/local/lib/python3.6/dist-packages (from notebook==5.7.0->-r requirements.txt (line 5)) (0.8.3)\n",
            "Requirement already satisfied: nbformat in /usr/local/lib/python3.6/dist-packages (from notebook==5.7.0->-r requirements.txt (line 5)) (5.0.6)\n",
            "Requirement already satisfied: jupyter-core>=4.4.0 in /usr/local/lib/python3.6/dist-packages (from notebook==5.7.0->-r requirements.txt (line 5)) (4.6.3)\n",
            "Requirement already satisfied: jupyter-client>=5.2.0 in /usr/local/lib/python3.6/dist-packages (from notebook==5.7.0->-r requirements.txt (line 5)) (5.3.4)\n",
            "Requirement already satisfied: Send2Trash in /usr/local/lib/python3.6/dist-packages (from notebook==5.7.0->-r requirements.txt (line 5)) (1.5.0)\n",
            "Requirement already satisfied: ipython-genutils in /usr/local/lib/python3.6/dist-packages (from notebook==5.7.0->-r requirements.txt (line 5)) (0.2.0)\n",
            "Requirement already satisfied: defusedxml in /usr/local/lib/python3.6/dist-packages (from nbconvert->jupyter==1.0.0->-r requirements.txt (line 1)) (0.6.0)\n",
            "Requirement already satisfied: pygments in /usr/local/lib/python3.6/dist-packages (from nbconvert->jupyter==1.0.0->-r requirements.txt (line 1)) (2.1.3)\n",
            "Requirement already satisfied: pandocfilters>=1.4.1 in /usr/local/lib/python3.6/dist-packages (from nbconvert->jupyter==1.0.0->-r requirements.txt (line 1)) (1.4.2)\n",
            "Requirement already satisfied: entrypoints>=0.2.2 in /usr/local/lib/python3.6/dist-packages (from nbconvert->jupyter==1.0.0->-r requirements.txt (line 1)) (0.3)\n",
            "Requirement already satisfied: bleach in /usr/local/lib/python3.6/dist-packages (from nbconvert->jupyter==1.0.0->-r requirements.txt (line 1)) (3.1.5)\n",
            "Requirement already satisfied: testpath in /usr/local/lib/python3.6/dist-packages (from nbconvert->jupyter==1.0.0->-r requirements.txt (line 1)) (0.4.4)\n",
            "Requirement already satisfied: mistune<2,>=0.8.1 in /usr/local/lib/python3.6/dist-packages (from nbconvert->jupyter==1.0.0->-r requirements.txt (line 1)) (0.8.4)\n",
            "Requirement already satisfied: ipython in /usr/local/lib/python3.6/dist-packages (from jupyter-console->jupyter==1.0.0->-r requirements.txt (line 1)) (5.5.0)\n",
            "Requirement already satisfied: prompt-toolkit<2.0.0,>=1.0.0 in /usr/local/lib/python3.6/dist-packages (from jupyter-console->jupyter==1.0.0->-r requirements.txt (line 1)) (1.0.18)\n",
            "Requirement already satisfied: widgetsnbextension~=3.5.0 in /usr/local/lib/python3.6/dist-packages (from ipywidgets->jupyter==1.0.0->-r requirements.txt (line 1)) (3.5.1)\n",
            "Requirement already satisfied: qtpy in /usr/local/lib/python3.6/dist-packages (from qtconsole->jupyter==1.0.0->-r requirements.txt (line 1)) (1.9.0)\n",
            "Requirement already satisfied: PyWavelets>=0.4.0 in /usr/local/lib/python3.6/dist-packages (from scikit-image>=0.12->lime==0.1.1.32->-r requirements.txt (line 2)) (1.1.1)\n",
            "Requirement already satisfied: imageio>=2.3.0 in /usr/local/lib/python3.6/dist-packages (from scikit-image>=0.12->lime==0.1.1.32->-r requirements.txt (line 2)) (2.4.1)\n",
            "Requirement already satisfied: pillow>=4.3.0 in /usr/local/lib/python3.6/dist-packages (from scikit-image>=0.12->lime==0.1.1.32->-r requirements.txt (line 2)) (7.0.0)\n",
            "Requirement already satisfied: networkx>=2.0 in /usr/local/lib/python3.6/dist-packages (from scikit-image>=0.12->lime==0.1.1.32->-r requirements.txt (line 2)) (2.4)\n",
            "Requirement already satisfied: six in /usr/local/lib/python3.6/dist-packages (from cycler>=0.10->matplotlib==3.0.0->-r requirements.txt (line 3)) (1.12.0)\n",
            "Requirement already satisfied: MarkupSafe>=0.23 in /usr/local/lib/python3.6/dist-packages (from jinja2->notebook==5.7.0->-r requirements.txt (line 5)) (1.1.1)\n",
            "Requirement already satisfied: decorator in /usr/local/lib/python3.6/dist-packages (from traitlets>=4.2.1->notebook==5.7.0->-r requirements.txt (line 5)) (4.4.2)\n",
            "Requirement already satisfied: ptyprocess; os_name != \"nt\" in /usr/local/lib/python3.6/dist-packages (from terminado>=0.8.1->notebook==5.7.0->-r requirements.txt (line 5)) (0.6.0)\n",
            "Requirement already satisfied: jsonschema!=2.5.0,>=2.4 in /usr/local/lib/python3.6/dist-packages (from nbformat->notebook==5.7.0->-r requirements.txt (line 5)) (2.6.0)\n",
            "Requirement already satisfied: packaging in /usr/local/lib/python3.6/dist-packages (from bleach->nbconvert->jupyter==1.0.0->-r requirements.txt (line 1)) (20.4)\n",
            "Requirement already satisfied: webencodings in /usr/local/lib/python3.6/dist-packages (from bleach->nbconvert->jupyter==1.0.0->-r requirements.txt (line 1)) (0.5.1)\n",
            "Requirement already satisfied: pickleshare in /usr/local/lib/python3.6/dist-packages (from ipython->jupyter-console->jupyter==1.0.0->-r requirements.txt (line 1)) (0.7.5)\n",
            "Requirement already satisfied: setuptools>=18.5 in /usr/local/lib/python3.6/dist-packages (from ipython->jupyter-console->jupyter==1.0.0->-r requirements.txt (line 1)) (46.3.0)\n",
            "Requirement already satisfied: pexpect; sys_platform != \"win32\" in /usr/local/lib/python3.6/dist-packages (from ipython->jupyter-console->jupyter==1.0.0->-r requirements.txt (line 1)) (4.8.0)\n",
            "Requirement already satisfied: simplegeneric>0.8 in /usr/local/lib/python3.6/dist-packages (from ipython->jupyter-console->jupyter==1.0.0->-r requirements.txt (line 1)) (0.8.1)\n",
            "Requirement already satisfied: wcwidth in /usr/local/lib/python3.6/dist-packages (from prompt-toolkit<2.0.0,>=1.0.0->jupyter-console->jupyter==1.0.0->-r requirements.txt (line 1)) (0.1.9)\n"
          ],
          "name": "stdout"
        }
      ]
    },
    {
      "cell_type": "code",
      "metadata": {
        "id": "Fw-4TWOCoqEE",
        "colab_type": "code",
        "colab": {}
      },
      "source": [
        "import pandas as pd\n",
        "import numpy as np\n",
        "import re\n",
        "from numpy import array\n",
        "from keras.preprocessing.text import one_hot\n",
        "from keras.preprocessing.sequence import pad_sequences\n",
        "from keras.models import Sequential\n",
        "from keras.layers.core import Activation, Dropout, Dense\n",
        "from keras.layers import Flatten, LSTM\n",
        "from keras.layers import GlobalMaxPooling1D\n",
        "from keras.models import Model\n",
        "from keras.layers.embeddings import Embedding\n",
        "from sklearn.model_selection import train_test_split\n",
        "from keras.preprocessing.text import Tokenizer\n",
        "from keras.layers import Input\n",
        "from keras.layers.merge import Concatenate\n",
        "import matplotlib.pyplot as plt\n",
        "import matplotlib as mpl\n",
        "from numpy import array\n",
        "from numpy import asarray\n",
        "from numpy import zeros\n",
        "from keras.utils import plot_model\n",
        "import seaborn as sns\n",
        "from tqdm import tqdm\n",
        "from sklearn.feature_extraction.text import TfidfVectorizer\n",
        "from sklearn.metrics import accuracy_score\n",
        "import json\n",
        "import nltk\n",
        "from IPython import display\n",
        "from statistics import mean \n",
        "from sklearn.impute import SimpleImputer\n",
        "from sklearn.model_selection import train_test_split\n",
        "import modAL\n",
        "import tqdm\n",
        "import lime\n",
        "import scipy\n",
        "import sklearn\n",
        "import matplotlib.pyplot as plt\n",
        "import warnings\n",
        "from typing import Tuple, List, Any, Union\n",
        "import numpy as np\n",
        "from modAL.models import ActiveLearner, Committee\n",
        "from keras.wrappers.scikit_learn import KerasClassifier\n",
        "from typing import Callable, Union, List\n",
        "from modAL.uncertainty import uncertainty_sampling\n",
        "from functools import partial\n",
        "from sklearn.svm import LinearSVC\n",
        "import warnings\n",
        "warnings.filterwarnings('ignore')"
      ],
      "execution_count": 0,
      "outputs": []
    },
    {
      "cell_type": "markdown",
      "metadata": {
        "id": "u0BBNCsOo9VK",
        "colab_type": "text"
      },
      "source": [
        "Import Dataset"
      ]
    },
    {
      "cell_type": "code",
      "metadata": {
        "id": "_QLPj9yX4YE7",
        "colab_type": "code",
        "colab": {}
      },
      "source": [
        "data = pd.read_csv('train.csv')"
      ],
      "execution_count": 0,
      "outputs": []
    },
    {
      "cell_type": "markdown",
      "metadata": {
        "id": "PvC9NKkkpy5s",
        "colab_type": "text"
      },
      "source": [
        "# Preprocessing Data\n",
        "1. Remove null values\n",
        "2. Add a new column for (n-1). We add a new column. The new column value will be 1 where all those attributes are 0. This new column will help us with the (n-1) condition."
      ]
    },
    {
      "cell_type": "code",
      "metadata": {
        "id": "QO54T3ZZv1Xv",
        "colab_type": "code",
        "colab": {}
      },
      "source": [
        "# Remove na\n",
        "filter = data[\"comment_text\"] != \"\"\n",
        "data = data[filter]\n",
        "data = data.dropna()"
      ],
      "execution_count": 0,
      "outputs": []
    },
    {
      "cell_type": "code",
      "metadata": {
        "id": "zYVeO2KeMyJW",
        "colab_type": "code",
        "colab": {}
      },
      "source": [
        "# Add new column\n",
        "def new_col(row):\n",
        "    if row['toxic']==0 and row['severe_toxic']==0 and row['obscene']==0 and row['threat']==0 and row['insult']==0 and row['identity_hate']==0:\n",
        "        val = 1\n",
        "    else:\n",
        "        val = 0\n",
        "    return val\n",
        "\n",
        "data['good'] = data.apply(new_col,axis=1)"
      ],
      "execution_count": 0,
      "outputs": []
    },
    {
      "cell_type": "markdown",
      "metadata": {
        "id": "I5-xLr0cz3xf",
        "colab_type": "text"
      },
      "source": [
        "***Text Preprocessing***"
      ]
    },
    {
      "cell_type": "code",
      "metadata": {
        "id": "DwXhlXXs8cI6",
        "colab_type": "code",
        "colab": {}
      },
      "source": [
        "def preprocess_text(sen):\n",
        "    # Remove punctuations and numbers\n",
        "    sentence = re.sub('[^a-zA-Z]', ' ', sen)\n",
        "\n",
        "    # Single character removal\n",
        "    sentence = re.sub(r\"\\s+[a-zA-Z]\\s+\", ' ', sentence)\n",
        "\n",
        "    # Removing multiple spaces\n",
        "    sentence = re.sub(r'\\s+', ' ', sentence)\n",
        "\n",
        "    return sentence\n",
        "data['comment_text'] = data['comment_text'].apply(lambda x: preprocess_text(x))"
      ],
      "execution_count": 0,
      "outputs": []
    },
    {
      "cell_type": "code",
      "metadata": {
        "id": "f16tOfPXvyMm",
        "colab_type": "code",
        "outputId": "9c14784b-3f40-4890-a716-36924ec40c11",
        "colab": {
          "base_uri": "https://localhost:8080/",
          "height": 51
        }
      },
      "source": [
        "nltk.download('stopwords')\n",
        "from nltk.corpus import stopwords\n",
        "stop_words = set(stopwords.words('english'))\n",
        "\n",
        "# function to remove stopwords\n",
        "def remove_stopwords(text):\n",
        "    no_stopword_text = [w for w in text.split() if not w in stop_words]\n",
        "    return ' '.join(no_stopword_text)\n",
        "\n",
        "data['comment_text'] = data['comment_text'].apply(lambda x: remove_stopwords(x))"
      ],
      "execution_count": 0,
      "outputs": [
        {
          "output_type": "stream",
          "text": [
            "[nltk_data] Downloading package stopwords to /root/nltk_data...\n",
            "[nltk_data]   Package stopwords is already up-to-date!\n"
          ],
          "name": "stdout"
        }
      ]
    },
    {
      "cell_type": "markdown",
      "metadata": {
        "id": "d9H352ZwwtXy",
        "colab_type": "text"
      },
      "source": [
        "***Visualize Data***"
      ]
    },
    {
      "cell_type": "code",
      "metadata": {
        "id": "HamQYBCflJKF",
        "colab_type": "code",
        "outputId": "1f76397c-56a7-43c5-94cd-93d87f86524b",
        "colab": {
          "base_uri": "https://localhost:8080/",
          "height": 877
        }
      },
      "source": [
        "# Word Frequency\n",
        "def freq_words(x, terms = 30): \n",
        "  all_words = ' '.join([text for text in x]) \n",
        "  all_words = all_words.split() \n",
        "  fdist = nltk.FreqDist(all_words) \n",
        "  words_df = pd.DataFrame({'word':list(fdist.keys()), 'count':list(fdist.values())}) \n",
        "  \n",
        "  # selecting top 20 most frequent words \n",
        "  d = words_df.nlargest(columns=\"count\", n = terms) \n",
        "  \n",
        "  # visualize words and frequencies\n",
        "  plt.figure(figsize=(12,15)) \n",
        "  ax = sns.barplot(data=d, x= \"count\", y = \"word\") \n",
        "  ax.set(ylabel = 'Word') \n",
        "  plt.show()\n",
        "\n",
        "freq_words(data['comment_text'], 100)"
      ],
      "execution_count": 0,
      "outputs": [
        {
          "output_type": "display_data",
          "data": {
            "image/png": "[encoded data removed]",
            "text/plain": [
              "<Figure size 864x1080 with 1 Axes>"
            ]
          },
          "metadata": {
            "tags": [],
            "needs_background": "light"
          }
        }
      ]
    },
    {
      "cell_type": "code",
      "metadata": {
        "id": "9Z0SR3J2z3Es",
        "colab_type": "code",
        "outputId": "ad22f3e4-c236-451a-e775-a52cb00c29fd",
        "colab": {
          "base_uri": "https://localhost:8080/",
          "height": 370
        }
      },
      "source": [
        "rowsums = data.iloc[:,2:].sum(axis=1)\n",
        "x=rowsums.value_counts()\n",
        "#plot\n",
        "plt.figure(figsize=(8,5))\n",
        "ax = sns.barplot(x.index, x.values)\n",
        "plt.title(\"Multiple categories per comment\")\n",
        "plt.ylabel('# of Occurrences', fontsize=12)\n",
        "plt.xlabel('# of categories', fontsize=12)"
      ],
      "execution_count": 0,
      "outputs": [
        {
          "output_type": "execute_result",
          "data": {
            "text/plain": [
              "Text(0.5, 0, '# of categories')"
            ]
          },
          "metadata": {
            "tags": []
          },
          "execution_count": 62
        },
        {
          "output_type": "display_data",
          "data": {
            "image/png": "[encoded data removed]",
            "text/plain": [
              "<Figure size 576x360 with 1 Axes>"
            ]
          },
          "metadata": {
            "tags": [],
            "needs_background": "light"
          }
        }
      ]
    },
    {
      "cell_type": "markdown",
      "metadata": {
        "id": "R2b4vz8kw4iB",
        "colab_type": "text"
      },
      "source": [
        "***Input & Output Variables***"
      ]
    },
    {
      "cell_type": "code",
      "metadata": {
        "id": "A7600AD6uqWn",
        "colab_type": "code",
        "colab": {}
      },
      "source": [
        "X = data.iloc[:,1].values\n",
        "y = data.iloc[:,[2,3,4,5,6,7,8]].values"
      ],
      "execution_count": 0,
      "outputs": []
    },
    {
      "cell_type": "code",
      "metadata": {
        "id": "EiEDQRzs8kzZ",
        "colab_type": "code",
        "colab": {}
      },
      "source": [
        "X_train, X_test, y_train, y_test = train_test_split(X,y,test_size = 0.25)"
      ],
      "execution_count": 0,
      "outputs": []
    },
    {
      "cell_type": "markdown",
      "metadata": {
        "id": "ixdKjocrRwFL",
        "colab_type": "text"
      },
      "source": [
        "# Machine Learning Approach"
      ]
    },
    {
      "cell_type": "markdown",
      "metadata": {
        "id": "tC35TN2VxGyz",
        "colab_type": "text"
      },
      "source": [
        "***Vectorize Text***"
      ]
    },
    {
      "cell_type": "code",
      "metadata": {
        "id": "EhwdsZV39Lkf",
        "colab_type": "code",
        "colab": {}
      },
      "source": [
        "from sklearn.feature_extraction.text import TfidfVectorizer\n",
        "max_features = 20000\n",
        "tfidf = TfidfVectorizer(max_features=max_features, stop_words='english')\n",
        "X_train_tf = tfidf.fit_transform(X_train)\n",
        "X_test_tf = tfidf.fit_transform(X_test)"
      ],
      "execution_count": 0,
      "outputs": []
    },
    {
      "cell_type": "markdown",
      "metadata": {
        "id": "X89CXAHXxNMe",
        "colab_type": "text"
      },
      "source": [
        "***Model Selection***"
      ]
    },
    {
      "cell_type": "code",
      "metadata": {
        "id": "Gis4W6l49phy",
        "colab_type": "code",
        "colab": {}
      },
      "source": [
        "from sklearn.linear_model import LogisticRegression\n",
        "\n",
        "# Binary Relevance\n",
        "from sklearn.multiclass import OneVsRestClassifier\n",
        "\n",
        "# Performance metric\n",
        "from sklearn.metrics import f1_score\n",
        "\n",
        "from sklearn.metrics import accuracy_score\n",
        "\n",
        "lr = LogisticRegression(max_iter=10000) # Increased max_iter from default due to incresed features\n",
        "clf = OneVsRestClassifier(lr)"
      ],
      "execution_count": 0,
      "outputs": []
    },
    {
      "cell_type": "markdown",
      "metadata": {
        "id": "fukgUuL5_uf0",
        "colab_type": "text"
      },
      "source": [
        "***Predicting***"
      ]
    },
    {
      "cell_type": "code",
      "metadata": {
        "id": "Xa8UaNdO9wch",
        "colab_type": "code",
        "outputId": "2d853008-c4eb-4a2c-819f-812d8e94e968",
        "colab": {
          "base_uri": "https://localhost:8080/",
          "height": 326
        }
      },
      "source": [
        "clf.fit(X_train_tf, y_train)\n",
        "y_pred = clf.predict(X_test_tf)\n",
        "print(\"Accuracy Score: \" +str(accuracy_score(y_test,y_pred)))"
      ],
      "execution_count": 0,
      "outputs": [
        {
          "output_type": "stream",
          "text": [
            "/usr/local/lib/python3.6/dist-packages/sklearn/utils/deprecation.py:68: FutureWarning: Class Parallel is deprecated; deprecated in version 0.20.1 to be removed in version 0.23. Please import this functionality directly from joblib, which can be installed with: pip install joblib.\n",
            "  def _decorate_fun(self, fun):\n",
            "/usr/local/lib/python3.6/dist-packages/sklearn/utils/deprecation.py:87: FutureWarning: Function delayed is deprecated; deprecated in version 0.20.1 to be removed in version 0.23. Please import this functionality directly from joblib, which can be installed with: pip install joblib.\n",
            "  def _update_doc(self, olddoc):\n",
            "/usr/local/lib/python3.6/dist-packages/sklearn/utils/deprecation.py:87: FutureWarning: Function delayed is deprecated; deprecated in version 0.20.1 to be removed in version 0.23. Please import this functionality directly from joblib, which can be installed with: pip install joblib.\n",
            "  def _update_doc(self, olddoc):\n",
            "/usr/local/lib/python3.6/dist-packages/sklearn/utils/deprecation.py:87: FutureWarning: Function delayed is deprecated; deprecated in version 0.20.1 to be removed in version 0.23. Please import this functionality directly from joblib, which can be installed with: pip install joblib.\n",
            "  def _update_doc(self, olddoc):\n",
            "/usr/local/lib/python3.6/dist-packages/sklearn/utils/deprecation.py:87: FutureWarning: Function delayed is deprecated; deprecated in version 0.20.1 to be removed in version 0.23. Please import this functionality directly from joblib, which can be installed with: pip install joblib.\n",
            "  def _update_doc(self, olddoc):\n",
            "/usr/local/lib/python3.6/dist-packages/sklearn/utils/deprecation.py:87: FutureWarning: Function delayed is deprecated; deprecated in version 0.20.1 to be removed in version 0.23. Please import this functionality directly from joblib, which can be installed with: pip install joblib.\n",
            "  def _update_doc(self, olddoc):\n",
            "/usr/local/lib/python3.6/dist-packages/sklearn/utils/deprecation.py:87: FutureWarning: Function delayed is deprecated; deprecated in version 0.20.1 to be removed in version 0.23. Please import this functionality directly from joblib, which can be installed with: pip install joblib.\n",
            "  def _update_doc(self, olddoc):\n",
            "/usr/local/lib/python3.6/dist-packages/sklearn/utils/deprecation.py:87: FutureWarning: Function delayed is deprecated; deprecated in version 0.20.1 to be removed in version 0.23. Please import this functionality directly from joblib, which can be installed with: pip install joblib.\n",
            "  def _update_doc(self, olddoc):\n"
          ],
          "name": "stderr"
        },
        {
          "output_type": "stream",
          "text": [
            "Accuracy Score: 0.8950693104053342\n"
          ],
          "name": "stdout"
        }
      ]
    },
    {
      "cell_type": "markdown",
      "metadata": {
        "id": "5WlrbVwvRlN9",
        "colab_type": "text"
      },
      "source": [
        "# Deep Learning Approach"
      ]
    },
    {
      "cell_type": "markdown",
      "metadata": {
        "id": "PXGZmQurzEZr",
        "colab_type": "text"
      },
      "source": [
        "***Prepare Text***"
      ]
    },
    {
      "cell_type": "code",
      "metadata": {
        "id": "lKZn-nd01J2b",
        "colab_type": "code",
        "colab": {}
      },
      "source": [
        "tokenizer = Tokenizer(num_words=5000)\n",
        "tokenizer.fit_on_texts(X_train)\n",
        "\n",
        "X_train_deep = tokenizer.texts_to_sequences(X_train)\n",
        "X_test_deep = tokenizer.texts_to_sequences(X_test)\n",
        "\n",
        "vocab_size = len(tokenizer.word_index) + 1\n",
        "\n",
        "maxlen = 200\n",
        "\n",
        "X_train_deep = pad_sequences(X_train_deep, padding='post', maxlen=maxlen)\n",
        "X_test_deep = pad_sequences(X_test_deep, padding='post', maxlen=maxlen)"
      ],
      "execution_count": 0,
      "outputs": []
    },
    {
      "cell_type": "markdown",
      "metadata": {
        "id": "Pz5XAaKV1txT",
        "colab_type": "text"
      },
      "source": [
        "***Convert to word embeddings***"
      ]
    },
    {
      "cell_type": "markdown",
      "metadata": {
        "id": "2YgMyiczzID3",
        "colab_type": "text"
      },
      "source": [
        "Word embeddings like this can be used in multi lingual use cases"
      ]
    },
    {
      "cell_type": "code",
      "metadata": {
        "id": "xEzZHDKQ5g30",
        "colab_type": "code",
        "colab": {}
      },
      "source": [
        "embeddings_dictionary = dict()\n",
        "\n",
        "glove_file = open('glove.6B.100d.txt', encoding=\"utf8\")\n",
        "\n",
        "for line in glove_file:\n",
        "    records = line.split()\n",
        "    word = records[0]\n",
        "    vector_dimensions = asarray(records[1:], dtype='float32')\n",
        "    embeddings_dictionary[word] = vector_dimensions\n",
        "glove_file.close()\n",
        "\n",
        "embedding_matrix = zeros((vocab_size, 100))\n",
        "for word, index in tokenizer.word_index.items():\n",
        "    embedding_vector = embeddings_dictionary.get(word)\n",
        "    if embedding_vector is not None:\n",
        "        embedding_matrix[index] = embedding_vector"
      ],
      "execution_count": 0,
      "outputs": []
    },
    {
      "cell_type": "code",
      "metadata": {
        "id": "lS-hgE7V7MDA",
        "colab_type": "code",
        "colab": {}
      },
      "source": [
        "deep_inputs = Input(shape=(maxlen,))\n",
        "embedding_layer = Embedding(vocab_size, 100, weights=[embedding_matrix], trainable=False)(deep_inputs)\n",
        "LSTM_Layer_1 = LSTM(128)(embedding_layer)\n",
        "dense_layer_1 = Dense(7, activation='sigmoid')(LSTM_Layer_1)\n",
        "model = Model(inputs=deep_inputs, outputs=dense_layer_1)\n",
        "\n",
        "model.compile(loss='binary_crossentropy', optimizer='adam', metrics=['acc'])"
      ],
      "execution_count": 0,
      "outputs": []
    },
    {
      "cell_type": "code",
      "metadata": {
        "id": "_z8K6o207QNb",
        "colab_type": "code",
        "outputId": "74311b48-9a7f-4829-dcac-228c4508db4c",
        "colab": {
          "base_uri": "https://localhost:8080/",
          "height": 289
        }
      },
      "source": [
        "model.summary()"
      ],
      "execution_count": 0,
      "outputs": [
        {
          "output_type": "stream",
          "text": [
            "Model: \"model_2\"\n",
            "_________________________________________________________________\n",
            "Layer (type)                 Output Shape              Param #   \n",
            "=================================================================\n",
            "input_2 (InputLayer)         (None, 200)               0         \n",
            "_________________________________________________________________\n",
            "embedding_2 (Embedding)      (None, 200, 100)          14319200  \n",
            "_________________________________________________________________\n",
            "lstm_2 (LSTM)                (None, 128)               117248    \n",
            "_________________________________________________________________\n",
            "dense_2 (Dense)              (None, 7)                 903       \n",
            "=================================================================\n",
            "Total params: 14,437,351\n",
            "Trainable params: 118,151\n",
            "Non-trainable params: 14,319,200\n",
            "_________________________________________________________________\n"
          ],
          "name": "stdout"
        }
      ]
    },
    {
      "cell_type": "markdown",
      "metadata": {
        "id": "syPo3Rhr6GUe",
        "colab_type": "text"
      },
      "source": [
        "***Model Representation***"
      ]
    },
    {
      "cell_type": "code",
      "metadata": {
        "id": "Mizwhd6-6JRh",
        "colab_type": "code",
        "outputId": "55e6cbd2-993b-4104-98c2-be06e72be1a3",
        "colab": {
          "base_uri": "https://localhost:8080/",
          "height": 422
        }
      },
      "source": [
        "plot_model(model, to_file='model_plot4a.png', show_shapes=True, show_layer_names=True)"
      ],
      "execution_count": 0,
      "outputs": [
        {
          "output_type": "execute_result",
          "data": {
            "image/png": "[encoded data removed]",
            "text/plain": [
              "<IPython.core.display.Image object>"
            ]
          },
          "metadata": {
            "tags": []
          },
          "execution_count": 80
        }
      ]
    },
    {
      "cell_type": "markdown",
      "metadata": {
        "id": "Y1tjt8Wi6Pav",
        "colab_type": "text"
      },
      "source": [
        "***Model Training***"
      ]
    },
    {
      "cell_type": "code",
      "metadata": {
        "id": "esQ8KUjW6O0j",
        "colab_type": "code",
        "outputId": "764467b4-a519-45cb-da67-31b55c29bb14",
        "colab": {
          "base_uri": "https://localhost:8080/",
          "height": 204
        }
      },
      "source": [
        "history = model.fit(X_train_deep, y_train, batch_size=128, epochs=5, verbose=1, validation_split=0.2)"
      ],
      "execution_count": 0,
      "outputs": [
        {
          "output_type": "stream",
          "text": [
            "Train on 95742 samples, validate on 23936 samples\n",
            "Epoch 1/5\n",
            "95742/95742 [==============================] - 591s 6ms/step - loss: 0.1729 - acc: 0.9543 - val_loss: 0.1554 - val_acc: 0.9578\n",
            "Epoch 2/5\n",
            "95742/95742 [==============================] - 591s 6ms/step - loss: 0.1609 - acc: 0.9555 - val_loss: 0.1377 - val_acc: 0.9532\n",
            "Epoch 3/5\n",
            "95742/95742 [==============================] - 591s 6ms/step - loss: 0.0887 - acc: 0.9700 - val_loss: 0.0735 - val_acc: 0.9743\n",
            "Epoch 4/5\n",
            "95742/95742 [==============================] - 588s 6ms/step - loss: 0.0695 - acc: 0.9761 - val_loss: 0.0693 - val_acc: 0.9756\n",
            "Epoch 5/5\n",
            "95742/95742 [==============================] - 587s 6ms/step - loss: 0.0649 - acc: 0.9774 - val_loss: 0.0674 - val_acc: 0.9761\n"
          ],
          "name": "stdout"
        }
      ]
    },
    {
      "cell_type": "code",
      "metadata": {
        "id": "dqrnvUPcQiCL",
        "colab_type": "code",
        "outputId": "d644733c-9fcd-458d-cf71-8f0505843ece",
        "colab": {
          "base_uri": "https://localhost:8080/",
          "height": 573
        }
      },
      "source": [
        "plt.plot(history.history['acc'])\n",
        "plt.plot(history.history['val_acc'])\n",
        "\n",
        "plt.title('model accuracy')\n",
        "plt.ylabel('accuracy')\n",
        "plt.xlabel('epoch')\n",
        "plt.legend(['train','test'], loc='upper left')\n",
        "plt.show()\n",
        "\n",
        "plt.plot(history.history['loss'])\n",
        "plt.plot(history.history['val_loss'])\n",
        "\n",
        "plt.title('model loss')\n",
        "plt.ylabel('loss')\n",
        "plt.xlabel('epoch')\n",
        "plt.legend(['train','test'], loc='upper left')\n",
        "plt.show()"
      ],
      "execution_count": 0,
      "outputs": [
        {
          "output_type": "display_data",
          "data": {
            "image/png": "[encoded data removed]",
            "text/plain": [
              "<Figure size 432x288 with 1 Axes>"
            ]
          },
          "metadata": {
            "tags": [],
            "needs_background": "light"
          }
        },
        {
          "output_type": "display_data",
          "data": {
            "image/png": "[encoded data removed]",
            "text/plain": [
              "<Figure size 432x288 with 1 Axes>"
            ]
          },
          "metadata": {
            "tags": [],
            "needs_background": "light"
          }
        }
      ]
    },
    {
      "cell_type": "markdown",
      "metadata": {
        "id": "cpKuu1VsBRxu",
        "colab_type": "text"
      },
      "source": [
        "# Active Learning"
      ]
    },
    {
      "cell_type": "markdown",
      "metadata": {
        "id": "_xZ2qm7Vs9VI",
        "colab_type": "text"
      },
      "source": [
        "We are using a library called modAL. But it currently doesn't support multilabel outputs so a ***small edit*** is required in the ***learners.py*** file which took me a long long time to figure out <br>\n",
        "modAL: https://github.com/modAL-python/modAL"
      ]
    },
    {
      "cell_type": "markdown",
      "metadata": {
        "id": "-K4j2Em8zQfa",
        "colab_type": "text"
      },
      "source": [
        "***Prepare small training set***"
      ]
    },
    {
      "cell_type": "code",
      "metadata": {
        "id": "fG73oxSnE6D4",
        "colab_type": "code",
        "outputId": "bd02891f-6383-4863-c9e7-83bdc541f101",
        "colab": {
          "base_uri": "https://localhost:8080/",
          "height": 51
        }
      },
      "source": [
        "X_train_tf_small = X_train_tf[:10000]\n",
        "y_train_small = y_train[:10000]\n",
        "print(X_train_tf_small.shape)\n",
        "print(y_train_small.shape)"
      ],
      "execution_count": 0,
      "outputs": [
        {
          "output_type": "stream",
          "text": [
            "(10000, 20000)\n",
            "(10000, 7)\n"
          ],
          "name": "stdout"
        }
      ]
    },
    {
      "cell_type": "markdown",
      "metadata": {
        "id": "s_2oV3xpzVpn",
        "colab_type": "text"
      },
      "source": [
        "***Prepare small testing set***"
      ]
    },
    {
      "cell_type": "code",
      "metadata": {
        "id": "ec-gzcvpHfjH",
        "colab_type": "code",
        "outputId": "be8c9b08-f635-47ff-bfcf-2e15e7170eb1",
        "colab": {
          "base_uri": "https://localhost:8080/",
          "height": 51
        }
      },
      "source": [
        "X_test_tf_small = X_test_tf[:5000]\n",
        "y_test_small = y_test[:5000]\n",
        "print(X_test_tf_small.shape)\n",
        "print(y_test_small.shape)"
      ],
      "execution_count": 0,
      "outputs": [
        {
          "output_type": "stream",
          "text": [
            "(5000, 20000)\n",
            "(5000, 7)\n"
          ],
          "name": "stdout"
        }
      ]
    },
    {
      "cell_type": "code",
      "metadata": {
        "id": "W825olGJnWJy",
        "colab_type": "code",
        "colab": {}
      },
      "source": [
        "from scipy import sparse\n",
        "y_train_sparse = sparse.csr_matrix(y_train_small)\n",
        "y_test_sparse = sparse.csr_matrix(y_test_small)"
      ],
      "execution_count": 0,
      "outputs": []
    },
    {
      "cell_type": "markdown",
      "metadata": {
        "id": "zkEfgrKY-cv3",
        "colab_type": "text"
      },
      "source": [
        "***Active Learning Loop***"
      ]
    },
    {
      "cell_type": "code",
      "metadata": {
        "id": "eBcSkJsz3N79",
        "colab_type": "code",
        "colab": {}
      },
      "source": [
        "def passive_sampling(classifier: Any,\n",
        "                     X: Union[np.ndarray, list],\n",
        "                     n_instances: int = 1,\n",
        "                     rng: np.random.RandomState = None) -> Tuple[list, np.ndarray]:\n",
        "    \"\"\"\n",
        "    Passive sampling strategy for AL that picks samples uniformly at random.\n",
        "    :param classifier: not used\n",
        "        Messy way of keeping with the query function abstraction\n",
        "    :param X: np.ndarray, list\n",
        "        Data pool to pick queries from\n",
        "    :param n_instances: int, default 1\n",
        "        Number of instances to pick\n",
        "    :param rng: np.random.RandomState, optional\n",
        "        Random number generator to use for seeding\n",
        "    :return: tuple (list, np.ndarray)\n",
        "        Tuple with indices of queried samples and the samples themselves\n",
        "    \"\"\"\n",
        "\n",
        "    if rng is not None:\n",
        "        query_ids = rng.choice(X.shape[0], size=n_instances, replace=False)\n",
        "    else:\n",
        "        query_ids = np.random.choice(X.shape[0], size=n_instances, replace=False)\n",
        "\n",
        "    return query_ids, X[query_ids]\n",
        "\n",
        "\n",
        "def delete_rows_csr(arr: scipy.sparse.csr_matrix,\n",
        "                    obj: Union[np.ndarray, list]):\n",
        "    \"\"\"\n",
        "    Deletes rows of a sparse matrix returning the new matrix.\n",
        "    :param arr: scipy.sparse.csr_matrix\n",
        "        Matrix from which to delete the rows\n",
        "    :param obj: 1D np.ndarray, list\n",
        "        Indices of rows to delete\n",
        "    :return: scipy.sparse.csr_matrix\n",
        "        Sparse matrix with rows deleted\n",
        "    \"\"\"\n",
        "\n",
        "    if not isinstance(arr, scipy.sparse.csr_matrix):\n",
        "        raise ValueError(\"This function works only for CSR format, try using X.tocsr()\")\n",
        "    obj = list(obj)\n",
        "    mask = np.ones(arr.shape[0], dtype=bool)\n",
        "    mask[obj] = False\n",
        "    return arr[mask]\n",
        "\n",
        "\n",
        "def plot(scores: List[Union[np.ndarray, list]],\n",
        "         names: List[str]) -> plt.axes:\n",
        "    \"\"\"\n",
        "    Plotting for AL experiments, supports both single and multiple experiments for each query strategy.\n",
        "    With multiple experiments it will plot mean and std score at every iteration.\n",
        "    :param scores: np.ndarray, list\n",
        "        List of scores for each of the strategies, for a single strategy if the score is 1D it will just plot it,\n",
        "        if it's 2D it will average over multiple runs nad plot mean and std\n",
        "    :param names: list\n",
        "        Names from each of the strategies to use as the legend\n",
        "    :return: matplotlib.pyplot.axes\n",
        "        Ax with the plot\n",
        "    \"\"\"\n",
        "\n",
        "    # prepare the plot\n",
        "    fig = plt.figure(figsize=(10, 8))\n",
        "    ax = fig.add_subplot(111)\n",
        "\n",
        "    # X axis for the plot\n",
        "    budget = len(scores[0])\n",
        "    t = np.arange(budget)\n",
        "\n",
        "    # enumerate the query strategies\n",
        "    for i, values in enumerate(scores):\n",
        "        assert len(values) == budget\n",
        "\n",
        "        values = np.array(values)\n",
        "        if len(values.shape) == 1:  # single experiment\n",
        "            ax.plot(t, values, label=names[i])\n",
        "        elif len(values.shape) == 2:  # multiple experiments\n",
        "            t = np.arange(values.shape[1])\n",
        "            # calculate mean and std\n",
        "            mean = np.mean(values, axis=0)\n",
        "            std = np.std(values, axis=0)\n",
        "            # plot the moments\n",
        "            ax.plot(t, mean, label=names[i])\n",
        "            ax.fill_between(t, mean - std, mean + std, alpha=0.1)\n",
        "\n",
        "    # set appropriate title\n",
        "    if len(np.array(scores[0]).shape) == 1:\n",
        "        title = 'Single run comparision between query strategy'\n",
        "    elif len(np.array(scores[0]).shape) == 2:\n",
        "        title = 'Comparision between query strategies averaged over {} runs with std'.format(len(scores[0]))\n",
        "    else:\n",
        "        raise ValueError(\"Unsupported scores shape: {}\".format(np.array(scores[0]).shape))\n",
        "\n",
        "    # add cosmetic stuff\n",
        "    ax.set_xlabel('Number of Labelled Samples')\n",
        "    ax.set_ylabel('Test Accuracy')\n",
        "    ax.set_title(title)\n",
        "    ax.legend()\n",
        "\n",
        "    return ax\n",
        "\n",
        "\n",
        "def committee_decision(votes: Union[np.ndarray, List[int]]) -> np.ndarray:\n",
        "    \"\"\"\n",
        "    Committee voting prediction for binary classification, this function is not recommended for multiclass tasks\n",
        "    as well as committees with even number of models due to lack of obvious consensus.\n",
        "    :param votes: np.ndarray, list\n",
        "        Committee votes for each sample\n",
        "    :return: np.ndarray\n",
        "        Prediction on the committee for each sample\n",
        "    \"\"\"\n",
        "\n",
        "    if np.array(votes).shape[1] % 2 == 0:\n",
        "        warnings.warn(\"The decision for a committee with even number of models may be not deterministic\")\n",
        "\n",
        "    def f(vote):\n",
        "        labels, counts = np.unique(vote, return_counts=True)\n",
        "        return labels[np.argmax(counts)]\n",
        "\n",
        "    return np.array(list(map(f, votes)), dtype=int)"
      ],
      "execution_count": 0,
      "outputs": []
    },
    {
      "cell_type": "code",
      "metadata": {
        "id": "umPsLpG_-buV",
        "colab_type": "code",
        "colab": {}
      },
      "source": [
        "def active_learning(model: Union[sklearn.base.BaseEstimator, List[sklearn.base.BaseEstimator]],\n",
        "                    query_strategy: Callable,\n",
        "                    X: np.ndarray,\n",
        "                    y: Union[np.ndarray, list],\n",
        "                    X_test: np.ndarray,\n",
        "                    y_test: Union[np.ndarray, list],\n",
        "                    budget: int = 50,\n",
        "                    warm_start: float = 0.01) -> list:\n",
        "\n",
        "    # sample the initial training set\n",
        "    init_ids = np.random.choice(y.shape[0], size=int(warm_start * y.shape[0]), replace=False)\n",
        "    X_init, y_init = X[init_ids], y[init_ids]\n",
        "    \n",
        "    # delete the initial traning set from the pool\n",
        "    #X = np.delete(X, obj=init_ids)\n",
        "    X = delete_rows_csr(X, obj=init_ids)\n",
        "    #y = np.delete(y, obj=init_ids)\n",
        "    y = delete_rows_csr(y, obj=init_ids)\n",
        "    \n",
        "    \n",
        "    \n",
        "    # initialize the learner\n",
        "    if isinstance(model, sklearn.base.BaseEstimator):  # single classifier\n",
        "        learner = ActiveLearner(estimator=model,\n",
        "                                X_training=X_init,\n",
        "                                y_training=y_init,\n",
        "                                query_strategy=query_strategy)\n",
        "    elif isinstance(model, list):  # committee\n",
        "        learner_list = [ActiveLearner(estimator=m,\n",
        "                                      X_training=X_init,\n",
        "                                      y_training=y_init) for m in model]\n",
        "        # create the committee\n",
        "        learner = Committee(learner_list=learner_list,\n",
        "                            query_strategy=query_strategy)\n",
        "        # use bagging to train the committe on bootstraped training sets\n",
        "        learner.rebag()\n",
        "    else:\n",
        "        raise TypeError(\"Unsupported model type: {}\".format(type(model)))\n",
        "    \n",
        "    # prepare an empty list for the model scores\n",
        "    scores = []\n",
        "    \n",
        "    # main AL loop\n",
        "    for i in range(budget):\n",
        "        # query the learner for a new sample\n",
        "        query_ids, _ = learner.query(X)\n",
        "        # \"ask\" the oracle for labels\n",
        "        X_query, y_query = X[query_ids], y[query_ids]\n",
        "        # train the learner using the newly acquired labels\n",
        "        learner.teach(X=X_query, y=y_query)\n",
        "        \n",
        "        # delete the new samples from the pool\n",
        "        #X = np.delete(X, obj=query_ids)\n",
        "        X = delete_rows_csr(X, obj=query_ids)\n",
        "        #y = np.delete(y, obj=query_ids)\n",
        "        y = delete_rows_csr(y, obj=query_ids)\n",
        "        \n",
        "        # evaluate the model and save its performance\n",
        "        if isinstance(learner, ActiveLearner):\n",
        "            y_pred = learner.predict(X=X_test)\n",
        "        elif isinstance(learner, Committee):\n",
        "            y_pred = Committee(learner.vote(X=X_test))\n",
        "        \n",
        "        acc = accuracy_score(y_test, y_pred)\n",
        "        scores.append(acc)\n",
        "\n",
        "    return scores"
      ],
      "execution_count": 0,
      "outputs": []
    },
    {
      "cell_type": "markdown",
      "metadata": {
        "id": "H7aN1gtyylIv",
        "colab_type": "text"
      },
      "source": [
        "Using only hundred instances due to memory limitations"
      ]
    },
    {
      "cell_type": "code",
      "metadata": {
        "id": "bnCS4udDOjdA",
        "colab_type": "code",
        "outputId": "14a6f771-03f0-4cce-9892-fca6b5682407",
        "colab": {
          "base_uri": "https://localhost:8080/",
          "height": 530
        }
      },
      "source": [
        "np.random.seed(1337)\n",
        "budget = 100  # the number of istances that will be queried for labels\n",
        "\n",
        "# lets simplfy the active_learning function for the ease of use\n",
        "al = partial(active_learning,\n",
        "             model=OneVsRestClassifier(LogisticRegression()),\n",
        "             X=X_train_tf_small, \n",
        "             y=y_train_sparse,\n",
        "             budget=budget,\n",
        "             X_test=X_test_tf_small,\n",
        "             y_test=y_test_sparse)\n",
        "\n",
        "passive_score = al(query_strategy=passive_sampling)\n",
        "unc_score = al(query_strategy=uncertainty_sampling)\n",
        "\n",
        "plot([passive_score, unc_score], names=['Passive', 'Uncertainty'])"
      ],
      "execution_count": 0,
      "outputs": [
        {
          "output_type": "execute_result",
          "data": {
            "text/plain": [
              "<matplotlib.axes._subplots.AxesSubplot at 0x7fa5fcb8e4e0>"
            ]
          },
          "metadata": {
            "tags": []
          },
          "execution_count": 80
        },
        {
          "output_type": "display_data",
          "data": {
            "image/png": "[encoded data removed]",
            "text/plain": [
              "<Figure size 720x576 with 1 Axes>"
            ]
          },
          "metadata": {
            "tags": [],
            "needs_background": "light"
          }
        }
      ]
    },
    {
      "cell_type": "markdown",
      "metadata": {
        "id": "A7aMRMhUsyFZ",
        "colab_type": "text"
      },
      "source": [
        "# Web Scraping to create a dataset"
      ]
    },
    {
      "cell_type": "markdown",
      "metadata": {
        "id": "T8PUA6YatrHq",
        "colab_type": "text"
      },
      "source": [
        "Datasets can be found on Kaggle or UCL repo. But the data we need can be found on sites like reddit, Quora etc. Scraping them will help us create a dataset. They can also be bought from companies and universities."
      ]
    },
    {
      "cell_type": "markdown",
      "metadata": {
        "id": "WWjE2mImuD_Y",
        "colab_type": "text"
      },
      "source": [
        "For this example I'll be scraping data from reddit using a module called ***praw***"
      ]
    },
    {
      "cell_type": "code",
      "metadata": {
        "id": "0pw1TFD6uVwt",
        "colab_type": "code",
        "outputId": "74c708df-a19c-4326-d9d3-1a25bead066d",
        "colab": {
          "base_uri": "https://localhost:8080/",
          "height": 343
        }
      },
      "source": [
        "pip install praw"
      ],
      "execution_count": 0,
      "outputs": [
        {
          "output_type": "stream",
          "text": [
            "Collecting praw\n",
            "\u001b[?25l  Downloading https://files.pythonhosted.org/packages/5c/39/17251486951815d4514e4a3f179d4f3e7af5f7b1ce8eaba5a3ea61bc91f2/praw-7.0.0-py3-none-any.whl (143kB)\n",
            "\u001b[K     |████████████████████████████████| 153kB 2.7MB/s \n",
            "\u001b[?25hCollecting websocket-client>=0.54.0\n",
            "\u001b[?25l  Downloading https://files.pythonhosted.org/packages/4c/5f/f61b420143ed1c8dc69f9eaec5ff1ac36109d52c80de49d66e0c36c3dfdf/websocket_client-0.57.0-py2.py3-none-any.whl (200kB)\n",
            "\u001b[K     |████████████████████████████████| 204kB 37.6MB/s \n",
            "\u001b[?25hCollecting prawcore<2.0,>=1.3.0\n",
            "  Downloading https://files.pythonhosted.org/packages/c9/8e/d076cb8f26523f91eef3e75d6cf9143b2f16d67ce7d681a61d0bbc783f49/prawcore-1.3.0-py3-none-any.whl\n",
            "Collecting update-checker>=0.16\n",
            "  Downloading https://files.pythonhosted.org/packages/d6/c3/aaf8a162df8e8f9d321237c7c0e63aff95b42d19f1758f96606e3cabb245/update_checker-0.17-py2.py3-none-any.whl\n",
            "Requirement already satisfied: six in /usr/local/lib/python3.6/dist-packages (from websocket-client>=0.54.0->praw) (1.12.0)\n",
            "Requirement already satisfied: requests<3.0,>=2.6.0 in /usr/local/lib/python3.6/dist-packages (from prawcore<2.0,>=1.3.0->praw) (2.23.0)\n",
            "Requirement already satisfied: idna<3,>=2.5 in /usr/local/lib/python3.6/dist-packages (from requests<3.0,>=2.6.0->prawcore<2.0,>=1.3.0->praw) (2.9)\n",
            "Requirement already satisfied: certifi>=2017.4.17 in /usr/local/lib/python3.6/dist-packages (from requests<3.0,>=2.6.0->prawcore<2.0,>=1.3.0->praw) (2020.4.5.1)\n",
            "Requirement already satisfied: chardet<4,>=3.0.2 in /usr/local/lib/python3.6/dist-packages (from requests<3.0,>=2.6.0->prawcore<2.0,>=1.3.0->praw) (3.0.4)\n",
            "Requirement already satisfied: urllib3!=1.25.0,!=1.25.1,<1.26,>=1.21.1 in /usr/local/lib/python3.6/dist-packages (from requests<3.0,>=2.6.0->prawcore<2.0,>=1.3.0->praw) (1.24.3)\n",
            "Installing collected packages: websocket-client, prawcore, update-checker, praw\n",
            "Successfully installed praw-7.0.0 prawcore-1.3.0 update-checker-0.17 websocket-client-0.57.0\n"
          ],
          "name": "stdout"
        }
      ]
    },
    {
      "cell_type": "code",
      "metadata": {
        "id": "_D97QIbnxQ5o",
        "colab_type": "code",
        "colab": {}
      },
      "source": [
        "import praw"
      ],
      "execution_count": 0,
      "outputs": []
    },
    {
      "cell_type": "code",
      "metadata": {
        "id": "RtFm0vbwueoA",
        "colab_type": "code",
        "colab": {}
      },
      "source": [
        "reddit = praw.Reddit(client_id='mi7xrg6x8-o2sQ', client_secret='uDVtPKWBw3RdMboHupNbTz_MIVs', user_agent='collect_data')"
      ],
      "execution_count": 0,
      "outputs": []
    },
    {
      "cell_type": "code",
      "metadata": {
        "id": "i-EWdsmMxgpK",
        "colab_type": "code",
        "colab": {}
      },
      "source": [
        "posts = []\n",
        "ml_subreddit = reddit.subreddit('Depression')\n",
        "for post in ml_subreddit.hot(limit=10):\n",
        "    posts.append([post.title, post.score, post.id, post.subreddit, post.url, post.num_comments, post.selftext, post.created])\n",
        "posts = pd.DataFrame(posts,columns=['title', 'score', 'id', 'subreddit', 'url', 'num_comments', 'body', 'created'])"
      ],
      "execution_count": 0,
      "outputs": []
    },
    {
      "cell_type": "code",
      "metadata": {
        "id": "NPX7Yaf6yTeb",
        "colab_type": "code",
        "colab": {
          "base_uri": "https://localhost:8080/",
          "height": 529
        },
        "outputId": "c6391ac5-5d0f-47c6-acd5-aa558ecafb41"
      },
      "source": [
        "posts"
      ],
      "execution_count": 89,
      "outputs": [
        {
          "output_type": "execute_result",
          "data": {
            "text/html": [
              "<div>\n",
              "<style scoped>\n",
              "    .dataframe tbody tr th:only-of-type {\n",
              "        vertical-align: middle;\n",
              "    }\n",
              "\n",
              "    .dataframe tbody tr th {\n",
              "        vertical-align: top;\n",
              "    }\n",
              "\n",
              "    .dataframe thead th {\n",
              "        text-align: right;\n",
              "    }\n",
              "</style>\n",
              "<table border=\"1\" class=\"dataframe\">\n",
              "  <thead>\n",
              "    <tr style=\"text-align: right;\">\n",
              "      <th></th>\n",
              "      <th>title</th>\n",
              "      <th>score</th>\n",
              "      <th>id</th>\n",
              "      <th>subreddit</th>\n",
              "      <th>url</th>\n",
              "      <th>num_comments</th>\n",
              "      <th>body</th>\n",
              "      <th>created</th>\n",
              "    </tr>\n",
              "  </thead>\n",
              "  <tbody>\n",
              "    <tr>\n",
              "      <th>0</th>\n",
              "      <td>Our most-broken and least-understood rules is ...</td>\n",
              "      <td>2325</td>\n",
              "      <td>doqwow</td>\n",
              "      <td>depression</td>\n",
              "      <td>https://www.reddit.com/r/depression/comments/d...</td>\n",
              "      <td>176</td>\n",
              "      <td>We understand that most people who reply immed...</td>\n",
              "      <td>1.572390e+09</td>\n",
              "    </tr>\n",
              "    <tr>\n",
              "      <th>1</th>\n",
              "      <td>Regular Check-In Post</td>\n",
              "      <td>793</td>\n",
              "      <td>exo6f1</td>\n",
              "      <td>depression</td>\n",
              "      <td>https://www.reddit.com/r/depression/comments/e...</td>\n",
              "      <td>4297</td>\n",
              "      <td>Welcome to /r/depression's check-in post - a p...</td>\n",
              "      <td>1.580678e+09</td>\n",
              "    </tr>\n",
              "    <tr>\n",
              "      <th>2</th>\n",
              "      <td>Lol my suicide note from 3 years ago was so fo...</td>\n",
              "      <td>551</td>\n",
              "      <td>gq8x7h</td>\n",
              "      <td>depression</td>\n",
              "      <td>https://www.reddit.com/r/depression/comments/g...</td>\n",
              "      <td>33</td>\n",
              "      <td>I recently (like 5 minutes ago) scrolled throu...</td>\n",
              "      <td>1.590433e+09</td>\n",
              "    </tr>\n",
              "    <tr>\n",
              "      <th>3</th>\n",
              "      <td>Anyone get this sad feeling when they see/hear...</td>\n",
              "      <td>271</td>\n",
              "      <td>gq3aei</td>\n",
              "      <td>depression</td>\n",
              "      <td>https://www.reddit.com/r/depression/comments/g...</td>\n",
              "      <td>44</td>\n",
              "      <td>I don't know, it's like this unexplainable fee...</td>\n",
              "      <td>1.590405e+09</td>\n",
              "    </tr>\n",
              "    <tr>\n",
              "      <th>4</th>\n",
              "      <td>Being depressed feels safe</td>\n",
              "      <td>17</td>\n",
              "      <td>gqcwtp</td>\n",
              "      <td>depression</td>\n",
              "      <td>https://www.reddit.com/r/depression/comments/g...</td>\n",
              "      <td>4</td>\n",
              "      <td>I dont want to get better, leave my house, get...</td>\n",
              "      <td>1.590449e+09</td>\n",
              "    </tr>\n",
              "    <tr>\n",
              "      <th>5</th>\n",
              "      <td>I wish suicide wasn’t harmful to other people.</td>\n",
              "      <td>1266</td>\n",
              "      <td>gprxmi</td>\n",
              "      <td>depression</td>\n",
              "      <td>https://www.reddit.com/r/depression/comments/g...</td>\n",
              "      <td>121</td>\n",
              "      <td>If I could take my life, and know that it woul...</td>\n",
              "      <td>1.590364e+09</td>\n",
              "    </tr>\n",
              "    <tr>\n",
              "      <th>6</th>\n",
              "      <td>Life sucks, then you die</td>\n",
              "      <td>30</td>\n",
              "      <td>gq8wnu</td>\n",
              "      <td>depression</td>\n",
              "      <td>https://www.reddit.com/r/depression/comments/g...</td>\n",
              "      <td>2</td>\n",
              "      <td>For a year now I’ve had migraines, and constan...</td>\n",
              "      <td>1.590432e+09</td>\n",
              "    </tr>\n",
              "    <tr>\n",
              "      <th>7</th>\n",
              "      <td>Longing for connection but too tired to connect</td>\n",
              "      <td>164</td>\n",
              "      <td>gq0ucg</td>\n",
              "      <td>depression</td>\n",
              "      <td>https://www.reddit.com/r/depression/comments/g...</td>\n",
              "      <td>31</td>\n",
              "      <td>I have so many unopened texts from ppl but I j...</td>\n",
              "      <td>1.590395e+09</td>\n",
              "    </tr>\n",
              "    <tr>\n",
              "      <th>8</th>\n",
              "      <td>Tired from doing nothing</td>\n",
              "      <td>99</td>\n",
              "      <td>gq33kg</td>\n",
              "      <td>depression</td>\n",
              "      <td>https://www.reddit.com/r/depression/comments/g...</td>\n",
              "      <td>17</td>\n",
              "      <td>I feel tired from doing nothing all day. Does ...</td>\n",
              "      <td>1.590404e+09</td>\n",
              "    </tr>\n",
              "    <tr>\n",
              "      <th>9</th>\n",
              "      <td>A post from me. Hoping to help you a little bit.</td>\n",
              "      <td>10</td>\n",
              "      <td>gqc5r3</td>\n",
              "      <td>depression</td>\n",
              "      <td>https://www.reddit.com/r/depression/comments/g...</td>\n",
              "      <td>1</td>\n",
              "      <td>Hi. I'm a boy, never had a girlfriend or succe...</td>\n",
              "      <td>1.590447e+09</td>\n",
              "    </tr>\n",
              "  </tbody>\n",
              "</table>\n",
              "</div>"
            ],
            "text/plain": [
              "                                               title  ...       created\n",
              "0  Our most-broken and least-understood rules is ...  ...  1.572390e+09\n",
              "1                              Regular Check-In Post  ...  1.580678e+09\n",
              "2  Lol my suicide note from 3 years ago was so fo...  ...  1.590433e+09\n",
              "3  Anyone get this sad feeling when they see/hear...  ...  1.590405e+09\n",
              "4                         Being depressed feels safe  ...  1.590449e+09\n",
              "5     I wish suicide wasn’t harmful to other people.  ...  1.590364e+09\n",
              "6                           Life sucks, then you die  ...  1.590432e+09\n",
              "7    Longing for connection but too tired to connect  ...  1.590395e+09\n",
              "8                           Tired from doing nothing  ...  1.590404e+09\n",
              "9   A post from me. Hoping to help you a little bit.  ...  1.590447e+09\n",
              "\n",
              "[10 rows x 8 columns]"
            ]
          },
          "metadata": {
            "tags": []
          },
          "execution_count": 89
        }
      ]
    }
  ]
}